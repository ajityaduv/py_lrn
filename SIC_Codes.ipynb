{
  "nbformat": 4,
  "nbformat_minor": 0,
  "metadata": {
    "colab": {
      "provenance": [],
      "authorship_tag": "ABX9TyP8su1PEIHOmVtMdWIZj35K",
      "include_colab_link": true
    },
    "kernelspec": {
      "name": "python3",
      "display_name": "Python 3"
    },
    "language_info": {
      "name": "python"
    }
  },
  "cells": [
    {
      "cell_type": "markdown",
      "metadata": {
        "id": "view-in-github",
        "colab_type": "text"
      },
      "source": [
        "<a href=\"https://colab.research.google.com/github/ajityaduv/py_lrn/blob/main/SIC_Codes.ipynb\" target=\"_parent\"><img src=\"https://colab.research.google.com/assets/colab-badge.svg\" alt=\"Open In Colab\"/></a>"
      ]
    },
    {
      "cell_type": "code",
      "execution_count": null,
      "metadata": {
        "id": "vxAwIF9RHOdA"
      },
      "outputs": [],
      "source": []
    },
    {
      "source": [
        "def add_two_numbers(a, b):\n",
        "  return a + b\n",
        "\n",
        "# Example usage\n",
        "result = add_two_numbers(10, 20)\n",
        "print(result) # Execute the code yourself to see the output."
      ],
      "cell_type": "code",
      "metadata": {
        "colab": {
          "base_uri": "https://localhost:8080/"
        },
        "id": "Aj8NWJG3BQJV",
        "outputId": "d34810f2-167d-45e2-a8a9-3b9b1f38708b"
      },
      "execution_count": null,
      "outputs": [
        {
          "output_type": "stream",
          "name": "stdout",
          "text": [
            "30\n"
          ]
        }
      ]
    },
    {
      "cell_type": "code",
      "source": [
        "def quicksort(S,low,high):\n",
        "  if low < high:\n",
        "    pivot = partition(S,low,high)\n",
        "    quicksort(S,low,pivot-1)\n",
        "    quicksort(S,pivot+1,high)\n",
        "\n",
        "def partition(S, low, high):\n",
        "  pivot = S[low]\n",
        "  left, right=low+1, high\n",
        "  while left < right and S[left] <= pivot:\n",
        "    left += 1\n",
        "  while right >= low and S[right] > pivot:\n",
        "    right -= 1\n",
        "  if left < right:\n",
        "    S[left], S[right] = S[right], S[left]\n",
        "  pivot = right\n",
        "  S[low], S[pivot] = S[pivot], S[low]\n",
        "  print\n",
        "  return pivot\n",
        "  S=[15,10,12,20,25,13,22]\n",
        "  quicksort\n"
      ],
      "metadata": {
        "id": "JCGUHV3eyjNn"
      },
      "execution_count": null,
      "outputs": []
    },
    {
      "cell_type": "code",
      "source": [
        "def coin_change(coins, amount):\n",
        "    dp = [float('inf')] * (amount + 1)\n",
        "    dp[0] = 0"
      ],
      "metadata": {
        "id": "nNjOnHHj3SZP"
      },
      "execution_count": null,
      "outputs": []
    },
    {
      "cell_type": "code",
      "source": [
        "start = [1,3,2,0,5,8,5]\n",
        "finish= [2,4,5,6,6,9]"
      ],
      "metadata": {
        "colab": {
          "base_uri": "https://localhost:8080/"
        },
        "id": "b976QBjj1A_E",
        "outputId": "a9568ea5-627e-4d50-e0d8-a41e87e6e109"
      },
      "execution_count": null,
      "outputs": [
        {
          "output_type": "stream",
          "name": "stdout",
          "text": [
            "Hello\n"
          ]
        }
      ]
    },
    {
      "cell_type": "code",
      "source": [
        "#coin change problem\n",
        "def coin_change(coins, amount):\n",
        "  changes = []\n",
        "  largest = 0\n",
        "  while amount>0:\n",
        "    if amount<coins[largest]:\n",
        "      largest += 1\n",
        "    else:\n",
        "      changes.append(coins[largest])\n",
        "      amount -= coins[largest]\n",
        "      return changes\n",
        "\n",
        "coins = [500,100,50,10]\n",
        "amount = int(input(\"Enter the amount: \"))\n",
        "changes = coin_change(coins,amount)\n",
        "print(changes, len(changes))"
      ],
      "metadata": {
        "colab": {
          "base_uri": "https://localhost:8080/"
        },
        "id": "XyjUQCAb2KPf",
        "outputId": "a2d4cd15-1bd9-4318-deec-9ceee4ac99e7"
      },
      "execution_count": null,
      "outputs": [
        {
          "output_type": "stream",
          "name": "stdout",
          "text": [
            "Enter the amount: 590\n",
            "[500] 1\n"
          ]
        }
      ]
    },
    {
      "cell_type": "code",
      "source": [
        "\n",
        "def find_minimum(row, col,triangle):\n",
        "  if row == len(triangle):\n",
        "    return 0\n",
        "  else:\n",
        "    minimum=min(find_minimum(row+1,col,triangle),find_minimum(row+1,col+1,triangle))\n",
        "    return triangle[row][col]+minimum\n",
        "\n",
        "triangle = [\n",
        "     [2],\n",
        "    [3,4],\n",
        "   [6,5,7],\n",
        "  [4,1,8,3]\n",
        "]\n",
        "minimum = find_minimum(0,0,triangle)\n",
        "print(\"The minimum cost is \", minimum)"
      ],
      "metadata": {
        "colab": {
          "base_uri": "https://localhost:8080/"
        },
        "id": "RTzkzhEb4PuV",
        "outputId": "7f8039e9-81bf-4ce5-dc9f-269fa8080543"
      },
      "execution_count": null,
      "outputs": [
        {
          "output_type": "stream",
          "name": "stdout",
          "text": [
            "The minimum cost is  11\n"
          ]
        }
      ]
    },
    {
      "cell_type": "markdown",
      "source": [
        "Fibbonacci Sequence problem"
      ],
      "metadata": {
        "id": "gyKugy7a8DRK"
      }
    },
    {
      "cell_type": "code",
      "source": [
        "def fib1(n):\n",
        "  if n==0 or n==1:\n",
        "    return 1\n",
        "  else:\n",
        "    return fib1(n-1)+fib1(n-2)"
      ],
      "metadata": {
        "id": "nl962iK18Kuv"
      },
      "execution_count": null,
      "outputs": []
    },
    {
      "cell_type": "code",
      "source": [
        "def fib3(F,n):\n",
        "  if n<=1:\n",
        "    return F[n]\n",
        "  else:\n",
        "    if F[n] < 0:\n",
        "      F[n] = fib3(F,n-1)+fib3(F,n-2)\n",
        "    return F[n]\n",
        "\n",
        "N = int(input(\"Iput a number : \"))\n",
        "F = [0,1]+[-1]*(N-1)\n",
        "print(fib3(F,N))"
      ],
      "metadata": {
        "colab": {
          "base_uri": "https://localhost:8080/"
        },
        "id": "wHX0xtaz-CM8",
        "outputId": "e160d0f0-e21c-443c-b732-8e97bf7b1dce"
      },
      "execution_count": 2,
      "outputs": [
        {
          "output_type": "stream",
          "name": "stdout",
          "text": [
            "Iput a number : 10\n",
            "55\n"
          ]
        }
      ]
    },
    {
      "cell_type": "code",
      "source": [],
      "metadata": {
        "id": "EAlR7PB_c5O3"
      },
      "execution_count": null,
      "outputs": []
    },
    {
      "cell_type": "code",
      "source": [
        "def fib1(n):\n",
        "  if n==0 or n==1:\n",
        "    return 1\n",
        "  else:\n",
        "    return fib1(n-1)+fib1(n-2)\n",
        "\n",
        "N = int(input(\"Iput a number : \"))\n",
        "print(fib1(N))"
      ],
      "metadata": {
        "id": "SJKQJOorbg9g"
      },
      "execution_count": null,
      "outputs": []
    },
    {
      "cell_type": "code",
      "source": [],
      "metadata": {
        "id": "0CO6JyqbgAzz"
      },
      "execution_count": null,
      "outputs": []
    },
    {
      "cell_type": "code",
      "source": [
        "def bin1(n,k):\n",
        "  if k==0 or k==n:\n",
        "    return 1\n",
        "  else:\n",
        "    return bin1(n-1,k)+bin1(n-1,k-1)\n",
        "\n",
        "n=int(input(\"Enter the value of n: \"))\n",
        "k=int(input(\"Enter the value of k: \"))\n",
        "print(f\"binomial({n}, {k}) is {bin1(n,k)}\")"
      ],
      "metadata": {
        "colab": {
          "base_uri": "https://localhost:8080/"
        },
        "id": "d7EUHbdZfRil",
        "outputId": "8969c5d6-4c13-4154-a965-bb8f4ed63d85"
      },
      "execution_count": 6,
      "outputs": [
        {
          "output_type": "stream",
          "name": "stdout",
          "text": [
            "Enter the value of n: 5\n",
            "Enter the value of k: 2\n",
            "binomial(5, 2) is 10\n"
          ]
        }
      ]
    },
    {
      "cell_type": "markdown",
      "source": [
        "N- Queen Problem"
      ],
      "metadata": {
        "id": "p8na2EXrgvLH"
      }
    },
    {
      "cell_type": "code",
      "source": [
        "# prompt: Write the code to solve N Queens problems using recursion\n",
        "\n",
        "def solveNQueens(n):\n",
        "    \"\"\"\n",
        "    Solve the N-Queens problem.\n",
        "\n",
        "    Args:\n",
        "      n: The size of the chessboard (n x n).\n",
        "\n",
        "    Returns:\n",
        "      A list of solutions, where each solution is a list of row positions for queens.\n",
        "    \"\"\"\n",
        "    result = []\n",
        "    board = [-1] * n  # Initialize board with -1 (no queen placed)\n",
        "    solve_nqueens_util(board, 0, result)\n",
        "    return result\n",
        "\n",
        "def solve_nqueens_util(board, col, result):\n",
        "    \"\"\"\n",
        "    Recursive helper function to solve the N-Queens problem.\n",
        "\n",
        "    Args:\n",
        "      board: The current state of the chessboard.\n",
        "      col: The current column being considered.\n",
        "      result: A list to store the solutions.\n",
        "    \"\"\"\n",
        "    n = len(board)\n",
        "    if col == n:\n",
        "        # All queens placed, add solution to result\n",
        "        result.append(board[:])\n",
        "        return\n",
        "\n",
        "    for i in range(n):\n",
        "        if is_safe(board, i, col):\n",
        "            board[col] = i  # Place queen at row i, col\n",
        "            solve_nqueens_util(board, col + 1, result)  # Recur for next column\n",
        "            board[col] = -1  # Backtrack\n",
        "\n",
        "def is_safe(board, row, col):\n",
        "    \"\"\"\n",
        "    Check if it's safe to place a queen at the given position.\n",
        "\n",
        "    Args:\n",
        "      board: The current state of the chessboard.\n",
        "      row: The row to check.\n",
        "      col: The column to check.\n",
        "\n",
        "    Returns:\n",
        "      True if it's safe to place a queen, False otherwise.\n",
        "    \"\"\"\n",
        "    for i in range(col):\n",
        "        if board[i] == row or abs(board[i] - row) == abs(i - col):\n",
        "            return False\n",
        "    return True\n",
        "\n",
        "# Example usage\n",
        "n = 4  # Example board size\n",
        "solutions = solveNQueens(n)\n",
        "print(f\"Solutions for {n}-Queens problem:\")\n",
        "for solution in solutions:\n",
        "    print(solution)\n"
      ],
      "metadata": {
        "colab": {
          "base_uri": "https://localhost:8080/"
        },
        "id": "-iNmSpSPg_45",
        "outputId": "040cdecc-3f03-409f-9e61-26afe4ffd636"
      },
      "execution_count": 7,
      "outputs": [
        {
          "output_type": "stream",
          "name": "stdout",
          "text": [
            "Solutions for 4-Queens problem:\n",
            "[1, 3, 0, 2]\n",
            "[2, 0, 3, 1]\n"
          ]
        }
      ]
    }
  ]
}